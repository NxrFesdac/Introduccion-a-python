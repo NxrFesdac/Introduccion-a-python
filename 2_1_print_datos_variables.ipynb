{
  "cells": [
    {
      "cell_type": "markdown",
      "metadata": {
        "id": "WxVG1yweZrZu"
      },
      "source": [
        "## Print\n",
        "La función print() imprime el mensaje especificado en la pantalla u otro dispositivo de salida estándar.\n",
        "\n",
        "El mensaje puede ser una cadena o cualquier otro objeto; el objeto se convertirá en una cadena antes de escribirse en la pantalla."
      ]
    },
    {
      "cell_type": "code",
      "execution_count": null,
      "metadata": {
        "colab": {
          "base_uri": "https://localhost:8080/"
        },
        "id": "2F3_XxPwZrZu",
        "outputId": "cb0d0d24-5e4c-4704-b3f0-6c6383aa0c18"
      },
      "outputs": [
        {
          "name": "stdout",
          "output_type": "stream",
          "text": [
            "Se acerca el invierno.\n",
            "Haz tu mejor esfuerzo como estudiante de Bourbaki\n",
            "\t Esta es una pestaña\n",
            "Esta es una nueva línea: \n",
            " como puedes ver :P\n",
            "\t\t\t\t Hola \n",
            " ¿Cómo te va?\n",
            "Esta es una barra invertida: \\\n",
            "1.16\n"
          ]
        }
      ],
      "source": [
        "print(\"Se acerca el invierno.\")\n",
        "print(\"Haz tu mejor esfuerzo\", \"como estudiante de Bourbaki\")\n",
        "print(\"\\t Esta es una pestaña\")\n",
        "print(\"Esta es una nueva línea: \\n como puedes ver :P\")\n",
        "\n",
        "print(\"\\t\\t\\t\\t Hola \\n ¿Cómo te va?\")\n",
        "print(\"Esta es una barra invertida: \\\\\")\n",
        "\n",
        "\n",
        "print(1.16)"
      ]
    },
    {
      "cell_type": "code",
      "execution_count": null,
      "metadata": {
        "colab": {
          "base_uri": "https://localhost:8080/",
          "height": 53
        },
        "id": "TRowOtWJZrZu",
        "outputId": "10455107-e761-43ae-e2f1-e9008ab3db34"
      },
      "outputs": [
        {
          "name": "stdout",
          "output_type": "stream",
          "text": [
            "Piedra, papel o tijeraPiedra\n"
          ]
        },
        {
          "data": {
            "application/vnd.google.colaboratory.intrinsic+json": {
              "type": "string"
            },
            "text/plain": [
              "'Piedra'"
            ]
          },
          "execution_count": 3,
          "metadata": {},
          "output_type": "execute_result"
        }
      ],
      "source": [
        "input(\"Piedra, papel o tijera\")"
      ]
    },
    {
      "cell_type": "code",
      "execution_count": null,
      "metadata": {
        "colab": {
          "base_uri": "https://localhost:8080/"
        },
        "id": "3CRJgMkpZrZu",
        "outputId": "58971135-eadc-4f12-8959-fbd8d9ed6ef3"
      },
      "outputs": [
        {
          "name": "stdout",
          "output_type": "stream",
          "text": [
            "Piedra, papel o tijeraPiedra\n",
            "Piedra\n"
          ]
        }
      ],
      "source": [
        "print(input(\"Piedra, papel o tijera\"))"
      ]
    },
    {
      "cell_type": "markdown",
      "metadata": {
        "id": "18-QU6eHZrZu"
      },
      "source": [
        "## Tipos de datos"
      ]
    },
    {
      "cell_type": "code",
      "execution_count": null,
      "metadata": {
        "colab": {
          "base_uri": "https://localhost:8080/"
        },
        "id": "36y6DQfeZrZu",
        "outputId": "d247681f-c443-473d-f5eb-1cfdfcc93788"
      },
      "outputs": [
        {
          "data": {
            "text/plain": [
              "str"
            ]
          },
          "execution_count": 5,
          "metadata": {},
          "output_type": "execute_result"
        }
      ],
      "source": [
        "type(\"Esto es un string\")"
      ]
    },
    {
      "cell_type": "code",
      "execution_count": null,
      "metadata": {
        "colab": {
          "base_uri": "https://localhost:8080/"
        },
        "id": "5_jXiR6xZrZv",
        "outputId": "26feab11-da1b-4413-dc85-5f04dc918167"
      },
      "outputs": [
        {
          "data": {
            "text/plain": [
              "int"
            ]
          },
          "execution_count": 6,
          "metadata": {},
          "output_type": "execute_result"
        }
      ],
      "source": [
        "type(10)"
      ]
    },
    {
      "cell_type": "code",
      "execution_count": null,
      "metadata": {
        "colab": {
          "base_uri": "https://localhost:8080/"
        },
        "id": "DzXra36LZrZv",
        "outputId": "81c763f7-23aa-4dea-bfa6-017f961ccb04"
      },
      "outputs": [
        {
          "data": {
            "text/plain": [
              "float"
            ]
          },
          "execution_count": 7,
          "metadata": {},
          "output_type": "execute_result"
        }
      ],
      "source": [
        "type(3.14)"
      ]
    },
    {
      "cell_type": "code",
      "execution_count": null,
      "metadata": {
        "colab": {
          "base_uri": "https://localhost:8080/"
        },
        "id": "2nsWmOXjZrZv",
        "outputId": "fd9c2745-46a0-4123-ca89-9f02003ccb5b"
      },
      "outputs": [
        {
          "data": {
            "text/plain": [
              "bool"
            ]
          },
          "execution_count": 8,
          "metadata": {},
          "output_type": "execute_result"
        }
      ],
      "source": [
        "type(False)"
      ]
    },
    {
      "cell_type": "markdown",
      "metadata": {
        "id": "SiZ4PRF4ZrZv"
      },
      "source": [
        "## Variables"
      ]
    },
    {
      "cell_type": "code",
      "execution_count": null,
      "metadata": {
        "colab": {
          "base_uri": "https://localhost:8080/"
        },
        "id": "vDuADZxuZrZv",
        "outputId": "c735ba1e-6386-4c77-f8bf-75f1de1229c0"
      },
      "outputs": [
        {
          "name": "stdout",
          "output_type": "stream",
          "text": [
            "Carlos Vargas el total va a ser de 321.8\n"
          ]
        }
      ],
      "source": [
        "nombre = \"Carlos Vargas\"\n",
        "oso_peluche_precio = 200\n",
        "impuestos = 121.80\n",
        "total = oso_peluche_precio + impuestos\n",
        "\n",
        "print(nombre,\"el total va a ser de\", total)"
      ]
    },
    {
      "cell_type": "code",
      "execution_count": null,
      "metadata": {
        "colab": {
          "base_uri": "https://localhost:8080/"
        },
        "id": "0wwDB10QZrZv",
        "outputId": "0f35c583-bf43-4a87-a4ec-642252066509"
      },
      "outputs": [
        {
          "name": "stdout",
          "output_type": "stream",
          "text": [
            "Carlos Vargas el total va a ser de 321.80\n"
          ]
        }
      ],
      "source": [
        "print(f\"{nombre} el total va a ser de {total:.2f}\")"
      ]
    },
    {
      "cell_type": "code",
      "execution_count": null,
      "metadata": {
        "colab": {
          "base_uri": "https://localhost:8080/"
        },
        "id": "dQTZW-8EZrZv",
        "outputId": "4ac57834-4d19-4d7b-f35a-d2e850ca7297"
      },
      "outputs": [
        {
          "name": "stdout",
          "output_type": "stream",
          "text": [
            "True False\n"
          ]
        }
      ],
      "source": [
        "booleana = True\n",
        "booleana_2 = False\n",
        "print(booleana, booleana_2)"
      ]
    },
    {
      "cell_type": "markdown",
      "metadata": {
        "id": "GMIbS9UfZrZw"
      },
      "source": [
        "## Comments"
      ]
    },
    {
      "cell_type": "code",
      "execution_count": null,
      "metadata": {
        "id": "LdgE8hYUZrZw"
      },
      "outputs": [],
      "source": [
        "# Este es un comentario\n",
        "# Este código no se ejecuta\n",
        "# Sirve para comentar el código\n",
        "# o para hacer que un código no se ejecute (en lugar de eliminarlo, puedes comentar el código)\n",
        "# También se puede implementar para diferenciar secciones dentro del código."
      ]
    },
    {
      "cell_type": "code",
      "execution_count": null,
      "metadata": {
        "colab": {
          "background_save": true,
          "base_uri": "https://localhost:8080/"
        },
        "id": "1_NAA3ydh7ZQ",
        "outputId": "4f672628-9a8f-4fbd-959d-c4f652ac033b"
      },
      "outputs": [
        {
          "name": "stdout",
          "output_type": "stream",
          "text": [
            "Hola estudiante de Bourbaki!\n"
          ]
        }
      ],
      "source": [
        "print(\"Hola estudiante de Bourbaki!\")"
      ]
    },
    {
      "cell_type": "code",
      "execution_count": null,
      "metadata": {
        "id": "m8EFCPPLh-ok"
      },
      "outputs": [],
      "source": []
    }
  ],
  "metadata": {
    "colab": {
      "provenance": []
    },
    "createdOn": 1726575256877,
    "creator": "jmateos",
    "customFields": {},
    "hide_input": false,
    "kernelspec": {
      "display_name": "Python 3",
      "language": "python",
      "name": "python3"
    },
    "language_info": {
      "codemirror_mode": {
        "name": "ipython",
        "version": 3
      },
      "file_extension": ".py",
      "mimetype": "text/x-python",
      "name": "python",
      "nbconvert_exporter": "python",
      "pygments_lexer": "ipython3",
      "version": "3.9.18"
    },
    "modifiedBy": "carlvargas",
    "tags": [],
    "versionNumber": 1
  },
  "nbformat": 4,
  "nbformat_minor": 0
}