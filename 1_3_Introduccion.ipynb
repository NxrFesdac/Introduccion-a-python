{
  "cells": [
    {
      "cell_type": "markdown",
      "metadata": {
        "id": "XqErLaT4ZrZr"
      },
      "source": [
        "## Ejecutar código\n",
        "En primer lugar, Jupyter Notebook es un entorno interactivo para escribir y ejecutar código. El portátil es capaz de ejecutar código en una amplia gama de idiomas. Sin embargo, cada cuaderno está asociado a un único núcleo. Este cuaderno está asociado con el kernel IPython, por lo tanto, ejecuta código Python."
      ]
    },
    {
      "cell_type": "markdown",
      "metadata": {
        "id": "YzrFks_5ZrZs"
      },
      "source": [
        "## Las celdas de código le permiten ingresar y ejecutar código\n",
        "Ejecute una celda de código usando **Shift-Enter** o presionando el botón en la barra de herramientas de arriba:"
      ]
    },
    {
      "cell_type": "code",
      "execution_count": null,
      "metadata": {
        "id": "6wfvc8EBZrZs",
        "colab": {
          "base_uri": "https://localhost:8080/"
        },
        "outputId": "c58cae9f-2601-4853-830e-923a9c97b7c5"
      },
      "outputs": [
        {
          "output_type": "stream",
          "name": "stdout",
          "text": [
            "Hola!\n"
          ]
        }
      ],
      "source": [
        "print(\"¡Hola estudiante de Bourbaki!\")"
      ]
    },
    {
      "cell_type": "markdown",
      "metadata": {
        "id": "AXo_ZUp4ZrZt"
      },
      "source": [
        "Hay otros dos atajos de teclado para ejecutar código:\n",
        "\n",
        "- **Alt-Enter** ejecuta la celda actual e inserta una nueva debajo.\n",
        "\n",
        "- **Ctrl-Enter** ejecuta la celda actual y entra en modo comando."
      ]
    },
    {
      "cell_type": "markdown",
      "metadata": {
        "id": "Fit-Ffn9ZrZt"
      },
      "source": [
        "## Administrar el kernel\n",
        "El código se ejecuta en un proceso separado llamado Kernel. El Kernel se puede interrumpir o reiniciar. Intente ejecutar la siguiente celda y luego presione el botón en la barra de herramientas de arriba."
      ]
    },
    {
      "cell_type": "code",
      "execution_count": null,
      "metadata": {
        "id": "hGW-OwlwZrZt"
      },
      "outputs": [],
      "source": [
        "import time\n",
        "\n",
        "time.sleep(10)"
      ]
    },
    {
      "cell_type": "markdown",
      "metadata": {
        "id": "obtKx755ZrZt"
      },
      "source": [
        "## Menú de celda\n",
        "El menú \"Celda\" tiene varios elementos de menú para ejecutar código de diferentes maneras. Estos incluyen:\n",
        "\n",
        "Ejecute y seleccione a continuación\n",
        "\n",
        "Ejecutar e insertar a continuación\n",
        "\n",
        "Ejecutar todo\n",
        "\n",
        "Ejecutar todo lo anterior\n",
        "\n",
        "Ejecute todo lo siguiente"
      ]
    },
    {
      "cell_type": "markdown",
      "metadata": {
        "id": "0eGr8XDFZrZt"
      },
      "source": [
        "\n",
        "## Reiniciando los kernels\n",
        "El kernel mantiene el estado de los cálculos de un portátil. Puede restablecer este estado reiniciando el kernel. Esto se hace haciendo clic en en la barra de herramientas de arriba."
      ]
    },
    {
      "cell_type": "markdown",
      "metadata": {
        "id": "dLCcwBwTZrZu"
      },
      "source": [
        "## La salida es asíncrona\n",
        "Toda la salida se muestra de forma asíncrona a medida que se genera en el Kernel. Si ejecuta la siguiente celda, verá el resultado pieza por pieza, no todo al final."
      ]
    },
    {
      "cell_type": "code",
      "source": [
        "print(\"Esta es la primera ejecución\")"
      ],
      "metadata": {
        "colab": {
          "base_uri": "https://localhost:8080/"
        },
        "id": "ejckUANAnHHn",
        "outputId": "d57e0434-0db7-41fb-996d-a5c53354bcb7"
      },
      "execution_count": null,
      "outputs": [
        {
          "output_type": "stream",
          "name": "stdout",
          "text": [
            "Esta es la primera ejecución\n"
          ]
        }
      ]
    },
    {
      "cell_type": "code",
      "source": [
        "print(\"Esta es la segunda ejecución\")"
      ],
      "metadata": {
        "id": "8bDSFbX7nUCU",
        "colab": {
          "base_uri": "https://localhost:8080/"
        },
        "outputId": "b5dc87c6-2cf8-4c76-fad4-08d03e1fb262"
      },
      "execution_count": null,
      "outputs": [
        {
          "output_type": "stream",
          "name": "stdout",
          "text": [
            "Esta es la segunda ejecución\n"
          ]
        }
      ]
    },
    {
      "cell_type": "markdown",
      "source": [
        "## Celdas Markdown\n",
        "https://www.markdownguide.org/cheat-sheet/"
      ],
      "metadata": {
        "id": "cDqHb15dm8t7"
      }
    },
    {
      "cell_type": "markdown",
      "source": [
        "# Terminal"
      ],
      "metadata": {
        "id": "UMq8_SWuys1-"
      }
    },
    {
      "cell_type": "code",
      "source": [
        "! pwd"
      ],
      "metadata": {
        "id": "yUyZWrJgyvii"
      },
      "execution_count": null,
      "outputs": []
    },
    {
      "cell_type": "code",
      "source": [],
      "metadata": {
        "id": "4cpCXtBmyyaz"
      },
      "execution_count": null,
      "outputs": []
    }
  ],
  "metadata": {
    "createdOn": 1726575256877,
    "creator": "jmateos",
    "customFields": {},
    "hide_input": false,
    "kernelspec": {
      "display_name": "Python 3",
      "language": "python",
      "name": "python3"
    },
    "language_info": {
      "codemirror_mode": {
        "name": "ipython",
        "version": 3
      },
      "file_extension": ".py",
      "mimetype": "text/x-python",
      "name": "python",
      "nbconvert_exporter": "python",
      "pygments_lexer": "ipython3",
      "version": "3.9.18"
    },
    "modifiedBy": "carlvargas",
    "tags": [],
    "versionNumber": 1,
    "colab": {
      "provenance": []
    }
  },
  "nbformat": 4,
  "nbformat_minor": 0
}