{
  "cells": [
    {
      "cell_type": "markdown",
      "metadata": {
        "id": "3_l-MPWHZrZw"
      },
      "source": [
        "## Operadores\n",
        "En Python puedes hacer matemáticas usando los siguientes símbolos.\n",
        "#+ adición\n",
        "#- resta\n",
        "#* multiplicación\n",
        "#/ división\n",
        "#// cociente entero de una división\n",
        "#% residuo de una división\n",
        "#** exponente\n",
        "#> mayor que\n",
        "#>= mayor o igual a\n",
        "#< menos que\n",
        "#<= menor o igual a\n",
        "#y más https://www.freecodecamp.org/espanol/news/operadores-basicos-en-python-con-ejemplos/"
      ]
    },
    {
      "cell_type": "code",
      "execution_count": null,
      "metadata": {
        "id": "lb5KfcGGZrZw",
        "outputId": "1a96f934-e55e-4606-84fb-773cafc60725",
        "colab": {
          "base_uri": "https://localhost:8080/"
        }
      },
      "outputs": [
        {
          "output_type": "stream",
          "name": "stdout",
          "text": [
            "¿Cuál es la respuesta a la vida, el universo y todo? 42\n",
            "¿Es cierto que 5 * 2 > 3 * 4?\n",
            "False\n"
          ]
        }
      ],
      "source": [
        "respuesta = (40 + 30 - 7) * 2 / 3\n",
        "print(\"¿Cuál es la respuesta a la vida, el universo y todo?\", int(respuesta))\n",
        "# en La guía del autoestopista galáctico de Douglas Adams, la \"Respuesta a la pregunta fundamental de la vida\",\n",
        "# el Universo y Todo\", calculado por una enorme supercomputadora llamada Deep Thought durante un período\n",
        "#de 7,5 millones de años.\n",
        "\n",
        "print(\"¿Es cierto que 5 * 2 > 3 * 4?\")\n",
        "print(5 * 2 > 3 * 4)"
      ]
    },
    {
      "cell_type": "markdown",
      "metadata": {
        "id": "WiooSqoZZrZw"
      },
      "source": [
        "## Funciones de Strings"
      ]
    },
    {
      "cell_type": "code",
      "execution_count": null,
      "metadata": {
        "scrolled": true,
        "id": "N29tdLUhZrZw",
        "outputId": "f5b07b06-b550-4195-de57-a51986452138",
        "colab": {
          "base_uri": "https://localhost:8080/"
        }
      },
      "outputs": [
        {
          "output_type": "stream",
          "name": "stdout",
          "text": [
            "Mi mayor dolor en la vida es que nunca podré verme actuar en vivo\n",
            "Bueno, se dice que ellos dijo: \"Este niño está loco, hombre\"\n"
          ]
        }
      ],
      "source": [
        "# Las cadenas son texto entre comillas.\n",
        "# Se pueden utilizar comillas simples ¨ y dobles \" \"\n",
        "\n",
        "kanye_quote = \"Mi mayor dolor en la vida es que nunca podré \\\n",
        "verme actuar en vivo\"\n",
        "\n",
        "print(kanye_quote)\n",
        "\n",
        "hamilton_quote = \"Bueno, se dice que ellos \\\n",
        "dijo: \\\"Este niño está loco, hombre\\\"\"\n",
        "\n",
        "print(hamilton_quote)"
      ]
    },
    {
      "cell_type": "code",
      "execution_count": null,
      "metadata": {
        "id": "legX-4DiZrZw",
        "outputId": "ba1b4cfa-de2e-4fb2-f84c-f45dabdc253e",
        "colab": {
          "base_uri": "https://localhost:8080/"
        }
      },
      "outputs": [
        {
          "output_type": "stream",
          "name": "stdout",
          "text": [
            "Algunas funciones de cadena:\n",
            "DEJA DE GRITAR\n",
            "deja de gritar\n"
          ]
        }
      ],
      "source": [
        "print(\"Algunas funciones de cadena:\")\n",
        "print(\"Deja de gritar\".upper())\n",
        "print(\"Deja de gritar\".lower())"
      ]
    },
    {
      "cell_type": "code",
      "execution_count": null,
      "metadata": {
        "id": "l6MGkHW3ZrZx",
        "outputId": "2afdb1cc-ec40-4d41-ba33-4ad2608137ce",
        "colab": {
          "base_uri": "https://localhost:8080/"
        }
      },
      "outputs": [
        {
          "output_type": "stream",
          "name": "stdout",
          "text": [
            "Carlos\n"
          ]
        }
      ],
      "source": [
        "# También se puede usar sobre variables de tipo texto\n",
        "nombre = \"carlos\"\n",
        "print(nombre.title())"
      ]
    },
    {
      "cell_type": "markdown",
      "source": [
        "Muchas más funciones se pueden encontrar en la siguiente liga https://www.w3schools.com/python/python_ref_string.asp"
      ],
      "metadata": {
        "id": "Vu_jsm4eubX7"
      }
    },
    {
      "cell_type": "markdown",
      "metadata": {
        "id": "xBmwcx7CZrZ1"
      },
      "source": [
        "## Ejericios"
      ]
    },
    {
      "cell_type": "markdown",
      "metadata": {
        "id": "LJZZkh7TZrZ1"
      },
      "source": [
        "Parte 1:\n",
        "Realizar operaciones básicas (suma, resta, multiplicación, división, concatenación, comparación) sobre variables de diferentes tipos.\n",
        "Muestra los resultados y los tipos de datos después de cada operación.\n"
      ]
    }
  ],
  "metadata": {
    "createdOn": 1726575256877,
    "creator": "jmateos",
    "customFields": {},
    "hide_input": false,
    "kernelspec": {
      "display_name": "Python 3",
      "language": "python",
      "name": "python3"
    },
    "language_info": {
      "codemirror_mode": {
        "name": "ipython",
        "version": 3
      },
      "file_extension": ".py",
      "mimetype": "text/x-python",
      "name": "python",
      "nbconvert_exporter": "python",
      "pygments_lexer": "ipython3",
      "version": "3.9.18"
    },
    "modifiedBy": "carlvargas",
    "tags": [],
    "versionNumber": 1,
    "colab": {
      "provenance": []
    }
  },
  "nbformat": 4,
  "nbformat_minor": 0
}